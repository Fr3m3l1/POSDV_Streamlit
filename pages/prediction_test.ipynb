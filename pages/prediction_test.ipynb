{
 "cells": [
  {
   "cell_type": "code",
   "execution_count": 1,
   "metadata": {},
   "outputs": [
    {
     "name": "stderr",
     "output_type": "stream",
     "text": [
      "WARNING:absl:Compiled the loaded model, but the compiled metrics have yet to be built. `model.compile_metrics` will be empty until you train or evaluate the model.\n"
     ]
    },
    {
     "name": "stdout",
     "output_type": "stream",
     "text": [
      "\u001b[1m1/1\u001b[0m \u001b[32m━━━━━━━━━━━━━━━━━━━━\u001b[0m\u001b[37m\u001b[0m \u001b[1m0s\u001b[0m 66ms/step"
     ]
    },
    {
     "name": "stderr",
     "output_type": "stream",
     "text": [
      "c:\\Users\\noiri\\.conda\\envs\\brain_tumor\\Lib\\site-packages\\sklearn\\base.py:493: UserWarning: X does not have valid feature names, but StandardScaler was fitted with feature names\n",
      "  warnings.warn(\n"
     ]
    },
    {
     "name": "stdout",
     "output_type": "stream",
     "text": [
      "\u001b[1m1/1\u001b[0m \u001b[32m━━━━━━━━━━━━━━━━━━━━\u001b[0m\u001b[37m\u001b[0m \u001b[1m0s\u001b[0m 68ms/step\n",
      "Sample 1: Predicted NSP Class = 2\n",
      "Sample 2: Predicted NSP Class = 1\n",
      "Sample 3: Predicted NSP Class = 1\n",
      "Sample 4: Predicted NSP Class = 1\n",
      "Sample 5: Predicted NSP Class = 3\n",
      "Sample 6: Predicted NSP Class = 3\n"
     ]
    }
   ],
   "source": [
    "import numpy as np\n",
    "import joblib\n",
    "from tensorflow.keras.models import load_model\n",
    "\n",
    "# Load the trained model\n",
    "model = load_model('nsp_model.h5')\n",
    "\n",
    "# Load the scaler\n",
    "scaler = joblib.load('scaler.pkl')\n",
    "\n",
    "# Define examples for each class\n",
    "normal_examples = np.array([\n",
    "    [120, 0, 0, 0, 0, 0, 0, 73, 0.5, 43, 0.5, 62, 120, 137, 2, 0, 120, 137, 121, 73, 1],\n",
    "    [122, 0, 0, 0, 2, 0, 0, 80, 2.4, 0, 0.6, 53, 133, 120, 3, 1, 133, 120, 131, 11, 0]\n",
    "])\n",
    "\n",
    "suspect_examples = np.array([\n",
    "    [140, 10, 1, 5, 1, 0, 0, 50, 1.5, 20, 1.0, 70, 125, 140, 5, 2, 125, 135, 130, 30, 0],\n",
    "    [145, 8, 1, 6, 1, 0, 0, 55, 1.8, 25, 1.2, 75, 130, 145, 6, 3, 130, 140, 135, 35, 1]\n",
    "])\n",
    "\n",
    "pathologic_examples = np.array([\n",
    "    [180, 20, 5, 10, 10, 1, 1, 90, 5.0, 50, 5.0, 100, 160, 200, 15, 10, 150, 175, 170, 80, -1],\n",
    "    [170, 18, 4, 9, 9, 1, 1, 85, 4.8, 48, 4.8, 98, 155, 195, 14, 9, 148, 170, 165, 75, -1]\n",
    "])\n",
    "\n",
    "# Combine all examples\n",
    "test_data = np.vstack((normal_examples, suspect_examples, pathologic_examples))\n",
    "\n",
    "# Normalize the test data\n",
    "test_data_scaled = scaler.transform(test_data)\n",
    "\n",
    "# Make predictions\n",
    "predictions = model.predict(test_data_scaled)\n",
    "\n",
    "# Convert predictions to class labels\n",
    "predicted_classes = predictions.argmax(axis=-1) + 1\n",
    "\n",
    "# Print the predictions\n",
    "for i, pred in enumerate(predicted_classes):\n",
    "    print(f\"Sample {i + 1}: Predicted NSP Class = {pred}\")\n"
   ]
  }
 ],
 "metadata": {
  "kernelspec": {
   "display_name": "brain_tumor",
   "language": "python",
   "name": "python3"
  },
  "language_info": {
   "codemirror_mode": {
    "name": "ipython",
    "version": 3
   },
   "file_extension": ".py",
   "mimetype": "text/x-python",
   "name": "python",
   "nbconvert_exporter": "python",
   "pygments_lexer": "ipython3",
   "version": "3.12.3"
  }
 },
 "nbformat": 4,
 "nbformat_minor": 2
}
